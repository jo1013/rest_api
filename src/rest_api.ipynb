{
 "cells": [
  {
   "cell_type": "code",
   "execution_count": 1,
   "metadata": {},
   "outputs": [],
   "source": [
    "import requests\n",
    "import json\n",
    "import os \n",
    "import sys\n",
    "# url = 'http://taas.koroad.or.kr/data/rest/stt?authKey=uvHbK5IgpWi6MvjtC12oE85HN5GdKymu6VXYlXR1KlkYaNzK1PhevqQQ0B%2BUIrvX'\n",
    "# params = {'type':'json','searchYearCd':'2018','guGun':'1101'}\n",
    "# res = requests.get(url,params) \n"
   ]
  },
  {
   "cell_type": "code",
   "execution_count": 2,
   "metadata": {},
   "outputs": [],
   "source": [
    "# print(res)"
   ]
  },
  {
   "cell_type": "code",
   "execution_count": 3,
   "metadata": {},
   "outputs": [],
   "source": [
    "# print(res.json())"
   ]
  },
  {
   "cell_type": "code",
   "execution_count": 4,
   "metadata": {},
   "outputs": [],
   "source": [
    "import csv\n",
    "import pandas as pd\n",
    "import fastapi\n",
    "from matplotlib import pyplot\n",
    "\n",
    "import pandas as pd\n",
    "from sklearn.base import BaseEstimator, TransformerMixin\n"
   ]
  },
  {
   "cell_type": "code",
   "execution_count": 5,
   "metadata": {},
   "outputs": [
    {
     "name": "stdout",
     "output_type": "stream",
     "text": [
      "/home/rest_api/src\n"
     ]
    }
   ],
   "source": [
    "print(os.getcwd())"
   ]
  },
  {
   "cell_type": "code",
   "execution_count": 6,
   "metadata": {},
   "outputs": [
    {
     "name": "stdout",
     "output_type": "stream",
     "text": [
      "/home/rest_api\n"
     ]
    }
   ],
   "source": [
    "dire = os.path.dirname(os.getcwd())\n",
    "print (dire)\n",
    "# 상위 디렉토리"
   ]
  },
  {
   "cell_type": "code",
   "execution_count": 7,
   "metadata": {},
   "outputs": [],
   "source": [
    "dire = os.path.dirname(os.getcwd())\n",
    "\n",
    "\n",
    "\n",
    "data_dir = dire + '/data'\n",
    "\n",
    "df = pd.read_csv(data_dir + '/12_19_교통사고정보.csv',encoding='utf-8')"
   ]
  },
  {
   "cell_type": "code",
   "execution_count": 8,
   "metadata": {
    "scrolled": false
   },
   "outputs": [
    {
     "data": {
      "text/html": [
       "<div>\n",
       "<style scoped>\n",
       "    .dataframe tbody tr th:only-of-type {\n",
       "        vertical-align: middle;\n",
       "    }\n",
       "\n",
       "    .dataframe tbody tr th {\n",
       "        vertical-align: top;\n",
       "    }\n",
       "\n",
       "    .dataframe thead th {\n",
       "        text-align: right;\n",
       "    }\n",
       "</style>\n",
       "<table border=\"1\" class=\"dataframe\">\n",
       "  <thead>\n",
       "    <tr style=\"text-align: right;\">\n",
       "      <th></th>\n",
       "      <th>연도</th>\n",
       "      <th>대상사고 구분명</th>\n",
       "      <th>법정동코드</th>\n",
       "      <th>사고건수</th>\n",
       "      <th>사고건수 구성비</th>\n",
       "      <th>사망자수</th>\n",
       "      <th>사망자수 구성비</th>\n",
       "      <th>치사율</th>\n",
       "      <th>부상자수</th>\n",
       "      <th>부상자수 구성비</th>\n",
       "    </tr>\n",
       "  </thead>\n",
       "  <tbody>\n",
       "    <tr>\n",
       "      <th>0</th>\n",
       "      <td>2012</td>\n",
       "      <td>어린이사고</td>\n",
       "      <td>1101</td>\n",
       "      <td>37</td>\n",
       "      <td>0.30</td>\n",
       "      <td>0</td>\n",
       "      <td>0.00</td>\n",
       "      <td>0.00</td>\n",
       "      <td>60</td>\n",
       "      <td>0.39</td>\n",
       "    </tr>\n",
       "    <tr>\n",
       "      <th>1</th>\n",
       "      <td>2012</td>\n",
       "      <td>노인사고</td>\n",
       "      <td>1101</td>\n",
       "      <td>144</td>\n",
       "      <td>0.51</td>\n",
       "      <td>4</td>\n",
       "      <td>0.21</td>\n",
       "      <td>2.78</td>\n",
       "      <td>149</td>\n",
       "      <td>0.50</td>\n",
       "    </tr>\n",
       "    <tr>\n",
       "      <th>2</th>\n",
       "      <td>2012</td>\n",
       "      <td>보행자사고</td>\n",
       "      <td>1101</td>\n",
       "      <td>405</td>\n",
       "      <td>0.79</td>\n",
       "      <td>9</td>\n",
       "      <td>0.44</td>\n",
       "      <td>2.22</td>\n",
       "      <td>412</td>\n",
       "      <td>0.80</td>\n",
       "    </tr>\n",
       "    <tr>\n",
       "      <th>3</th>\n",
       "      <td>2012</td>\n",
       "      <td>자전거사고</td>\n",
       "      <td>1101</td>\n",
       "      <td>53</td>\n",
       "      <td>0.41</td>\n",
       "      <td>0</td>\n",
       "      <td>0.00</td>\n",
       "      <td>0.00</td>\n",
       "      <td>55</td>\n",
       "      <td>0.42</td>\n",
       "    </tr>\n",
       "    <tr>\n",
       "      <th>4</th>\n",
       "      <td>2012</td>\n",
       "      <td>야간사고</td>\n",
       "      <td>1101</td>\n",
       "      <td>677</td>\n",
       "      <td>0.63</td>\n",
       "      <td>6</td>\n",
       "      <td>0.21</td>\n",
       "      <td>0.89</td>\n",
       "      <td>1015</td>\n",
       "      <td>0.61</td>\n",
       "    </tr>\n",
       "    <tr>\n",
       "      <th>...</th>\n",
       "      <td>...</td>\n",
       "      <td>...</td>\n",
       "      <td>...</td>\n",
       "      <td>...</td>\n",
       "      <td>...</td>\n",
       "      <td>...</td>\n",
       "      <td>...</td>\n",
       "      <td>...</td>\n",
       "      <td>...</td>\n",
       "      <td>...</td>\n",
       "    </tr>\n",
       "    <tr>\n",
       "      <th>9142</th>\n",
       "      <td>2019</td>\n",
       "      <td>어린이사고</td>\n",
       "      <td>2701</td>\n",
       "      <td>64</td>\n",
       "      <td>0.58</td>\n",
       "      <td>0</td>\n",
       "      <td>0.00</td>\n",
       "      <td>0.00</td>\n",
       "      <td>75</td>\n",
       "      <td>0.53</td>\n",
       "    </tr>\n",
       "    <tr>\n",
       "      <th>9143</th>\n",
       "      <td>2019</td>\n",
       "      <td>노인사고</td>\n",
       "      <td>2701</td>\n",
       "      <td>134</td>\n",
       "      <td>0.33</td>\n",
       "      <td>8</td>\n",
       "      <td>0.53</td>\n",
       "      <td>5.97</td>\n",
       "      <td>153</td>\n",
       "      <td>0.34</td>\n",
       "    </tr>\n",
       "    <tr>\n",
       "      <th>9144</th>\n",
       "      <td>2019</td>\n",
       "      <td>보행자사고</td>\n",
       "      <td>2701</td>\n",
       "      <td>144</td>\n",
       "      <td>0.31</td>\n",
       "      <td>3</td>\n",
       "      <td>0.23</td>\n",
       "      <td>2.08</td>\n",
       "      <td>147</td>\n",
       "      <td>0.31</td>\n",
       "    </tr>\n",
       "    <tr>\n",
       "      <th>9145</th>\n",
       "      <td>2019</td>\n",
       "      <td>자전거사고</td>\n",
       "      <td>2701</td>\n",
       "      <td>82</td>\n",
       "      <td>0.62</td>\n",
       "      <td>1</td>\n",
       "      <td>0.56</td>\n",
       "      <td>1.22</td>\n",
       "      <td>86</td>\n",
       "      <td>0.63</td>\n",
       "    </tr>\n",
       "    <tr>\n",
       "      <th>9146</th>\n",
       "      <td>2019</td>\n",
       "      <td>야간사고</td>\n",
       "      <td>2701</td>\n",
       "      <td>366</td>\n",
       "      <td>0.40</td>\n",
       "      <td>5</td>\n",
       "      <td>0.31</td>\n",
       "      <td>1.37</td>\n",
       "      <td>516</td>\n",
       "      <td>0.38</td>\n",
       "    </tr>\n",
       "  </tbody>\n",
       "</table>\n",
       "<p>9147 rows × 10 columns</p>\n",
       "</div>"
      ],
      "text/plain": [
       "        연도 대상사고 구분명  법정동코드  사고건수  사고건수 구성비  사망자수  사망자수 구성비   치사율  부상자수  \\\n",
       "0     2012    어린이사고   1101    37      0.30     0      0.00  0.00    60   \n",
       "1     2012     노인사고   1101   144      0.51     4      0.21  2.78   149   \n",
       "2     2012    보행자사고   1101   405      0.79     9      0.44  2.22   412   \n",
       "3     2012    자전거사고   1101    53      0.41     0      0.00  0.00    55   \n",
       "4     2012     야간사고   1101   677      0.63     6      0.21  0.89  1015   \n",
       "...    ...      ...    ...   ...       ...   ...       ...   ...   ...   \n",
       "9142  2019    어린이사고   2701    64      0.58     0      0.00  0.00    75   \n",
       "9143  2019     노인사고   2701   134      0.33     8      0.53  5.97   153   \n",
       "9144  2019    보행자사고   2701   144      0.31     3      0.23  2.08   147   \n",
       "9145  2019    자전거사고   2701    82      0.62     1      0.56  1.22    86   \n",
       "9146  2019     야간사고   2701   366      0.40     5      0.31  1.37   516   \n",
       "\n",
       "      부상자수 구성비  \n",
       "0         0.39  \n",
       "1         0.50  \n",
       "2         0.80  \n",
       "3         0.42  \n",
       "4         0.61  \n",
       "...        ...  \n",
       "9142      0.53  \n",
       "9143      0.34  \n",
       "9144      0.31  \n",
       "9145      0.63  \n",
       "9146      0.38  \n",
       "\n",
       "[9147 rows x 10 columns]"
      ]
     },
     "execution_count": 8,
     "metadata": {},
     "output_type": "execute_result"
    }
   ],
   "source": [
    "df"
   ]
  },
  {
   "cell_type": "code",
   "execution_count": null,
   "metadata": {},
   "outputs": [],
   "source": []
  },
  {
   "cell_type": "code",
   "execution_count": 9,
   "metadata": {},
   "outputs": [],
   "source": [
    "is_kids = df['대상사고 구분명'] == '어린이사고'\n",
    "is_kids = df[is_kids]"
   ]
  },
  {
   "cell_type": "code",
   "execution_count": 10,
   "metadata": {
    "scrolled": true
   },
   "outputs": [
    {
     "data": {
      "text/html": [
       "<div>\n",
       "<style scoped>\n",
       "    .dataframe tbody tr th:only-of-type {\n",
       "        vertical-align: middle;\n",
       "    }\n",
       "\n",
       "    .dataframe tbody tr th {\n",
       "        vertical-align: top;\n",
       "    }\n",
       "\n",
       "    .dataframe thead th {\n",
       "        text-align: right;\n",
       "    }\n",
       "</style>\n",
       "<table border=\"1\" class=\"dataframe\">\n",
       "  <thead>\n",
       "    <tr style=\"text-align: right;\">\n",
       "      <th></th>\n",
       "      <th>연도</th>\n",
       "      <th>대상사고 구분명</th>\n",
       "      <th>법정동코드</th>\n",
       "      <th>사고건수</th>\n",
       "      <th>사고건수 구성비</th>\n",
       "      <th>사망자수</th>\n",
       "      <th>사망자수 구성비</th>\n",
       "      <th>치사율</th>\n",
       "      <th>부상자수</th>\n",
       "      <th>부상자수 구성비</th>\n",
       "    </tr>\n",
       "  </thead>\n",
       "  <tbody>\n",
       "    <tr>\n",
       "      <th>0</th>\n",
       "      <td>2012</td>\n",
       "      <td>어린이사고</td>\n",
       "      <td>1101</td>\n",
       "      <td>37</td>\n",
       "      <td>0.30</td>\n",
       "      <td>0</td>\n",
       "      <td>0.00</td>\n",
       "      <td>0.00</td>\n",
       "      <td>60</td>\n",
       "      <td>0.39</td>\n",
       "    </tr>\n",
       "    <tr>\n",
       "      <th>5</th>\n",
       "      <td>2012</td>\n",
       "      <td>어린이사고</td>\n",
       "      <td>1102</td>\n",
       "      <td>28</td>\n",
       "      <td>0.22</td>\n",
       "      <td>0</td>\n",
       "      <td>0.00</td>\n",
       "      <td>0.00</td>\n",
       "      <td>36</td>\n",
       "      <td>0.23</td>\n",
       "    </tr>\n",
       "    <tr>\n",
       "      <th>10</th>\n",
       "      <td>2012</td>\n",
       "      <td>어린이사고</td>\n",
       "      <td>1103</td>\n",
       "      <td>32</td>\n",
       "      <td>0.26</td>\n",
       "      <td>0</td>\n",
       "      <td>0.00</td>\n",
       "      <td>0.00</td>\n",
       "      <td>37</td>\n",
       "      <td>0.24</td>\n",
       "    </tr>\n",
       "    <tr>\n",
       "      <th>15</th>\n",
       "      <td>2012</td>\n",
       "      <td>어린이사고</td>\n",
       "      <td>1104</td>\n",
       "      <td>27</td>\n",
       "      <td>0.22</td>\n",
       "      <td>0</td>\n",
       "      <td>0.00</td>\n",
       "      <td>0.00</td>\n",
       "      <td>31</td>\n",
       "      <td>0.20</td>\n",
       "    </tr>\n",
       "    <tr>\n",
       "      <th>20</th>\n",
       "      <td>2012</td>\n",
       "      <td>어린이사고</td>\n",
       "      <td>1105</td>\n",
       "      <td>50</td>\n",
       "      <td>0.40</td>\n",
       "      <td>0</td>\n",
       "      <td>0.00</td>\n",
       "      <td>0.00</td>\n",
       "      <td>55</td>\n",
       "      <td>0.36</td>\n",
       "    </tr>\n",
       "    <tr>\n",
       "      <th>...</th>\n",
       "      <td>...</td>\n",
       "      <td>...</td>\n",
       "      <td>...</td>\n",
       "      <td>...</td>\n",
       "      <td>...</td>\n",
       "      <td>...</td>\n",
       "      <td>...</td>\n",
       "      <td>...</td>\n",
       "      <td>...</td>\n",
       "      <td>...</td>\n",
       "    </tr>\n",
       "    <tr>\n",
       "      <th>9122</th>\n",
       "      <td>2019</td>\n",
       "      <td>어린이사고</td>\n",
       "      <td>2602</td>\n",
       "      <td>55</td>\n",
       "      <td>0.50</td>\n",
       "      <td>0</td>\n",
       "      <td>0.00</td>\n",
       "      <td>0.00</td>\n",
       "      <td>64</td>\n",
       "      <td>0.45</td>\n",
       "    </tr>\n",
       "    <tr>\n",
       "      <th>9127</th>\n",
       "      <td>2019</td>\n",
       "      <td>어린이사고</td>\n",
       "      <td>2603</td>\n",
       "      <td>29</td>\n",
       "      <td>0.26</td>\n",
       "      <td>0</td>\n",
       "      <td>0.00</td>\n",
       "      <td>0.00</td>\n",
       "      <td>33</td>\n",
       "      <td>0.23</td>\n",
       "    </tr>\n",
       "    <tr>\n",
       "      <th>9132</th>\n",
       "      <td>2019</td>\n",
       "      <td>어린이사고</td>\n",
       "      <td>2604</td>\n",
       "      <td>52</td>\n",
       "      <td>0.47</td>\n",
       "      <td>1</td>\n",
       "      <td>3.57</td>\n",
       "      <td>1.92</td>\n",
       "      <td>64</td>\n",
       "      <td>0.45</td>\n",
       "    </tr>\n",
       "    <tr>\n",
       "      <th>9137</th>\n",
       "      <td>2019</td>\n",
       "      <td>어린이사고</td>\n",
       "      <td>2605</td>\n",
       "      <td>40</td>\n",
       "      <td>0.36</td>\n",
       "      <td>1</td>\n",
       "      <td>3.57</td>\n",
       "      <td>2.50</td>\n",
       "      <td>42</td>\n",
       "      <td>0.30</td>\n",
       "    </tr>\n",
       "    <tr>\n",
       "      <th>9142</th>\n",
       "      <td>2019</td>\n",
       "      <td>어린이사고</td>\n",
       "      <td>2701</td>\n",
       "      <td>64</td>\n",
       "      <td>0.58</td>\n",
       "      <td>0</td>\n",
       "      <td>0.00</td>\n",
       "      <td>0.00</td>\n",
       "      <td>75</td>\n",
       "      <td>0.53</td>\n",
       "    </tr>\n",
       "  </tbody>\n",
       "</table>\n",
       "<p>1826 rows × 10 columns</p>\n",
       "</div>"
      ],
      "text/plain": [
       "        연도 대상사고 구분명  법정동코드  사고건수  사고건수 구성비  사망자수  사망자수 구성비   치사율  부상자수  \\\n",
       "0     2012    어린이사고   1101    37      0.30     0      0.00  0.00    60   \n",
       "5     2012    어린이사고   1102    28      0.22     0      0.00  0.00    36   \n",
       "10    2012    어린이사고   1103    32      0.26     0      0.00  0.00    37   \n",
       "15    2012    어린이사고   1104    27      0.22     0      0.00  0.00    31   \n",
       "20    2012    어린이사고   1105    50      0.40     0      0.00  0.00    55   \n",
       "...    ...      ...    ...   ...       ...   ...       ...   ...   ...   \n",
       "9122  2019    어린이사고   2602    55      0.50     0      0.00  0.00    64   \n",
       "9127  2019    어린이사고   2603    29      0.26     0      0.00  0.00    33   \n",
       "9132  2019    어린이사고   2604    52      0.47     1      3.57  1.92    64   \n",
       "9137  2019    어린이사고   2605    40      0.36     1      3.57  2.50    42   \n",
       "9142  2019    어린이사고   2701    64      0.58     0      0.00  0.00    75   \n",
       "\n",
       "      부상자수 구성비  \n",
       "0         0.39  \n",
       "5         0.23  \n",
       "10        0.24  \n",
       "15        0.20  \n",
       "20        0.36  \n",
       "...        ...  \n",
       "9122      0.45  \n",
       "9127      0.23  \n",
       "9132      0.45  \n",
       "9137      0.30  \n",
       "9142      0.53  \n",
       "\n",
       "[1826 rows x 10 columns]"
      ]
     },
     "execution_count": 10,
     "metadata": {},
     "output_type": "execute_result"
    }
   ],
   "source": [
    "is_kids"
   ]
  },
  {
   "cell_type": "code",
   "execution_count": null,
   "metadata": {},
   "outputs": [],
   "source": [
    "is_death = df['사망자수'] > 0\n",
    "is_death = df[is_death]"
   ]
  },
  {
   "cell_type": "code",
   "execution_count": null,
   "metadata": {},
   "outputs": [],
   "source": [
    "is_old = is_death['대상사고 구분명'] == '노인사고'"
   ]
  },
  {
   "cell_type": "code",
   "execution_count": null,
   "metadata": {},
   "outputs": [],
   "source": [
    "c = 0\n",
    "d = 0\n",
    "for i in list(is_old):\n",
    "    if i == True:\n",
    "        c +=1\n",
    "    else :\n",
    "        d +=1\n"
   ]
  },
  {
   "cell_type": "code",
   "execution_count": null,
   "metadata": {},
   "outputs": [],
   "source": [
    "print('사망한 사고에서 노인사고는 '+str(c)+'명 이고 그외 '+str(d)+'명은 사망하지 않았습니다.')"
   ]
  },
  {
   "cell_type": "markdown",
   "metadata": {},
   "source": [
    "## 공공데이터 API json 형태로 "
   ]
  },
  {
   "cell_type": "code",
   "execution_count": null,
   "metadata": {},
   "outputs": [],
   "source": [
    "import urllib.request"
   ]
  },
  {
   "cell_type": "code",
   "execution_count": null,
   "metadata": {},
   "outputs": [],
   "source": [
    "# url = 'https://api.odcloud.kr/api/15070339/v1/uddi:4a675be8-b829-460c-a2463vgEXKTbtEDLnQc5A1FnduZZ1TCYHLo16pJkHU7%2BWQbi%2FPsxm0870yPSEqlgzdMIfIQO8uGg%3D%3D&page=1&perPage=100&returnType=json'\n",
    "# response = urllib.request.urlopen(url)\n",
    "# #변수 page, perPage, returnType"
   ]
  },
  {
   "cell_type": "code",
   "execution_count": null,
   "metadata": {},
   "outputs": [],
   "source": [
    "# response"
   ]
  },
  {
   "cell_type": "code",
   "execution_count": null,
   "metadata": {},
   "outputs": [],
   "source": [
    "# json_str = response.read().decode(\"utf-8\")"
   ]
  },
  {
   "cell_type": "code",
   "execution_count": null,
   "metadata": {},
   "outputs": [],
   "source": [
    "import json\n",
    "# json_obj = json.loads(json_str)"
   ]
  },
  {
   "cell_type": "code",
   "execution_count": null,
   "metadata": {},
   "outputs": [],
   "source": [
    "# json_obj"
   ]
  },
  {
   "cell_type": "markdown",
   "metadata": {},
   "source": [
    "------"
   ]
  },
  {
   "cell_type": "markdown",
   "metadata": {},
   "source": [
    "## 이륜차 사고 데이터"
   ]
  },
  {
   "cell_type": "code",
   "execution_count": null,
   "metadata": {},
   "outputs": [],
   "source": [
    "import pandas as pd"
   ]
  },
  {
   "cell_type": "code",
   "execution_count": null,
   "metadata": {},
   "outputs": [],
   "source": [
    "dire = os.path.dirname(os.getcwd())\n",
    "\n",
    "\n",
    "\n",
    "data_dir = dire + '/data'\n",
    "motor_acc = pd.read_csv(data_dir + '/17_19_motorcycle_위치정보.csv',encoding='utf-8')"
   ]
  },
  {
   "cell_type": "code",
   "execution_count": null,
   "metadata": {},
   "outputs": [],
   "source": [
    "motor_acc"
   ]
  },
  {
   "cell_type": "code",
   "execution_count": null,
   "metadata": {
    "scrolled": true
   },
   "outputs": [],
   "source": [
    "d =  list(motor_acc['다발지역폴리곤'])[0][32:-1]"
   ]
  },
  {
   "cell_type": "markdown",
   "metadata": {},
   "source": [
    "## 지도에 표시"
   ]
  },
  {
   "cell_type": "code",
   "execution_count": null,
   "metadata": {},
   "outputs": [],
   "source": [
    "import folium\n",
    "from folium.plugins import MarkerCluster\n",
    "import pandas as pd"
   ]
  },
  {
   "cell_type": "code",
   "execution_count": null,
   "metadata": {},
   "outputs": [],
   "source": [
    "seoul_location = motor_acc[['위도', '경도']]\n",
    "\n",
    "dire = os.path.dirname(os.getcwd())\n",
    "\n",
    "\n",
    "\n",
    "data_dir = dire + '/data'\n",
    "motor_acc = pd.read_csv(data_dir + '/17_19_motorcycle_위치정보.csv',encoding='utf-8')\n",
    "map = folium.Map(location =  [37.5642,127.0016985,], zoom_start =12)\n",
    "\n",
    "for a in seoul_location.index:\n",
    "    latitude = seoul_location.loc[a,\"위도\"]\n",
    "    longtitude = seoul_location.loc[a,\"경도\"]\n",
    "    tooltip = \"사고!\"\n",
    "    folium.Marker([latitude, longtitude], popup = '<i>위험</i>', tooltip =tooltip).add_to(map)   \n"
   ]
  },
  {
   "cell_type": "code",
   "execution_count": null,
   "metadata": {},
   "outputs": [],
   "source": [
    "\n",
    "seoul_location = motor_acc[['위도', '경도']]\n",
    "map = folium.Map(location =  [37.5642,127.0016985,], zoom_start =12)\n",
    "\n",
    "list1=[]\n",
    "list2=[]\n",
    "marker_cluster = MarkerCluster().add_to(map)\n",
    "for a in seoul_location.index:\n",
    "    folium.Marker(location = [seoul_location.loc[a,\"위도\"],seoul_location.loc[a,\"경도\"]],\n",
    "                  zoom_start=12,\n",
    "                  popup=seoul_location.loc).add_to(marker_cluster)\n",
    "    list1.append(seoul_location.loc[a,\"위도\"])\n",
    "    list2.append(seoul_location.loc[a,\"경도\"])\n"
   ]
  },
  {
   "cell_type": "code",
   "execution_count": null,
   "metadata": {
    "scrolled": true
   },
   "outputs": [],
   "source": [
    "map"
   ]
  },
  {
   "cell_type": "code",
   "execution_count": null,
   "metadata": {},
   "outputs": [],
   "source": [
    "motor_acc['다발지역폴리곤']"
   ]
  },
  {
   "cell_type": "code",
   "execution_count": null,
   "metadata": {},
   "outputs": [],
   "source": [
    "# from shapely.geometry import Point, Polygon\n",
    "\n",
    "\n",
    "# engineer_poly = Polygon(engineer)"
   ]
  },
  {
   "cell_type": "code",
   "execution_count": null,
   "metadata": {},
   "outputs": [],
   "source": [
    "import dir_path"
   ]
  },
  {
   "cell_type": "code",
   "execution_count": null,
   "metadata": {},
   "outputs": [],
   "source": [
    "print(dir_path.PATH.data_dir)"
   ]
  },
  {
   "cell_type": "code",
   "execution_count": null,
   "metadata": {},
   "outputs": [],
   "source": []
  }
 ],
 "metadata": {
  "kernelspec": {
   "display_name": "Python 3",
   "language": "python",
   "name": "python3"
  },
  "language_info": {
   "codemirror_mode": {
    "name": "ipython",
    "version": 3
   },
   "file_extension": ".py",
   "mimetype": "text/x-python",
   "name": "python",
   "nbconvert_exporter": "python",
   "pygments_lexer": "ipython3",
   "version": "3.6.9"
  }
 },
 "nbformat": 4,
 "nbformat_minor": 2
}
