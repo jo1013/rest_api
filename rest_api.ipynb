{
 "cells": [
  {
   "cell_type": "code",
   "execution_count": 46,
   "metadata": {},
   "outputs": [],
   "source": [
    "# import requests\n",
    "\n",
    "# import json\n",
    "\n",
    "# url = 'http://taas.koroad.or.kr/data/rest/stt?authKey=uvHbK5IgpWi6MvjtC12oE85HN5GdKymu6VXYlXR1KlkYaNzK1PhevqQQ0B%2BUIrvX'\n",
    "# params = {'type':'json','searchYearCd':'2018','guGun':'1101'}\n",
    "# res = requests.get(url,params) \n"
   ]
  },
  {
   "cell_type": "code",
   "execution_count": 47,
   "metadata": {},
   "outputs": [
    {
     "name": "stdout",
     "output_type": "stream",
     "text": [
      "<Response [200]>\n"
     ]
    }
   ],
   "source": [
    "# print(res)"
   ]
  },
  {
   "cell_type": "code",
   "execution_count": 48,
   "metadata": {},
   "outputs": [
    {
     "name": "stdout",
     "output_type": "stream",
     "text": [
      "{'resultCode': '30', 'resultMsg': 'SERVICE_KEY_IS_NOT_REGISTERED_ERROR'}\n"
     ]
    }
   ],
   "source": [
    "# print(res.json())"
   ]
  },
  {
   "cell_type": "code",
   "execution_count": 7,
   "metadata": {},
   "outputs": [
    {
     "ename": "ModuleNotFoundError",
     "evalue": "No module named 'matplotlib'",
     "output_type": "error",
     "traceback": [
      "\u001b[0;31m---------------------------------------------------------------------------\u001b[0m",
      "\u001b[0;31mModuleNotFoundError\u001b[0m                       Traceback (most recent call last)",
      "\u001b[0;32m<ipython-input-7-385ca089773a>\u001b[0m in \u001b[0;36m<module>\u001b[0;34m\u001b[0m\n\u001b[1;32m      1\u001b[0m \u001b[0;32mimport\u001b[0m \u001b[0mcsv\u001b[0m\u001b[0;34m\u001b[0m\u001b[0;34m\u001b[0m\u001b[0m\n\u001b[1;32m      2\u001b[0m \u001b[0;32mimport\u001b[0m \u001b[0mpandas\u001b[0m \u001b[0;32mas\u001b[0m \u001b[0mpd\u001b[0m\u001b[0;34m\u001b[0m\u001b[0;34m\u001b[0m\u001b[0m\n\u001b[0;32m----> 3\u001b[0;31m \u001b[0;32mfrom\u001b[0m \u001b[0mmatplotlib\u001b[0m \u001b[0;32mimport\u001b[0m \u001b[0mpyplot\u001b[0m\u001b[0;34m\u001b[0m\u001b[0;34m\u001b[0m\u001b[0m\n\u001b[0m",
      "\u001b[0;31mModuleNotFoundError\u001b[0m: No module named 'matplotlib'"
     ]
    }
   ],
   "source": [
    "import csv\n",
    "import pandas as pd\n",
    "from matplotlib import pyplot"
   ]
  },
  {
   "cell_type": "code",
   "execution_count": 4,
   "metadata": {},
   "outputs": [],
   "source": [
    "abc = pd.read_csv('12_19_stt.csv',encoding='cp949')"
   ]
  },
  {
   "cell_type": "code",
   "execution_count": 5,
   "metadata": {},
   "outputs": [
    {
     "data": {
      "text/html": [
       "<div>\n",
       "<style scoped>\n",
       "    .dataframe tbody tr th:only-of-type {\n",
       "        vertical-align: middle;\n",
       "    }\n",
       "\n",
       "    .dataframe tbody tr th {\n",
       "        vertical-align: top;\n",
       "    }\n",
       "\n",
       "    .dataframe thead th {\n",
       "        text-align: right;\n",
       "    }\n",
       "</style>\n",
       "<table border=\"1\" class=\"dataframe\">\n",
       "  <thead>\n",
       "    <tr style=\"text-align: right;\">\n",
       "      <th></th>\n",
       "      <th>연도</th>\n",
       "      <th>대상사고 구분명</th>\n",
       "      <th>법정동코드</th>\n",
       "      <th>사고건수</th>\n",
       "      <th>사고건수 구성비</th>\n",
       "      <th>사망자수</th>\n",
       "      <th>사망자수 구성비</th>\n",
       "      <th>치사율</th>\n",
       "      <th>부상자수</th>\n",
       "      <th>부상자수 구성비</th>\n",
       "    </tr>\n",
       "  </thead>\n",
       "  <tbody>\n",
       "    <tr>\n",
       "      <th>0</th>\n",
       "      <td>2012</td>\n",
       "      <td>어린이사고</td>\n",
       "      <td>1101</td>\n",
       "      <td>37</td>\n",
       "      <td>0.30</td>\n",
       "      <td>0</td>\n",
       "      <td>0.00</td>\n",
       "      <td>0.00</td>\n",
       "      <td>60</td>\n",
       "      <td>0.39</td>\n",
       "    </tr>\n",
       "    <tr>\n",
       "      <th>1</th>\n",
       "      <td>2012</td>\n",
       "      <td>노인사고</td>\n",
       "      <td>1101</td>\n",
       "      <td>144</td>\n",
       "      <td>0.51</td>\n",
       "      <td>4</td>\n",
       "      <td>0.21</td>\n",
       "      <td>2.78</td>\n",
       "      <td>149</td>\n",
       "      <td>0.50</td>\n",
       "    </tr>\n",
       "    <tr>\n",
       "      <th>2</th>\n",
       "      <td>2012</td>\n",
       "      <td>보행자사고</td>\n",
       "      <td>1101</td>\n",
       "      <td>405</td>\n",
       "      <td>0.79</td>\n",
       "      <td>9</td>\n",
       "      <td>0.44</td>\n",
       "      <td>2.22</td>\n",
       "      <td>412</td>\n",
       "      <td>0.80</td>\n",
       "    </tr>\n",
       "    <tr>\n",
       "      <th>3</th>\n",
       "      <td>2012</td>\n",
       "      <td>자전거사고</td>\n",
       "      <td>1101</td>\n",
       "      <td>53</td>\n",
       "      <td>0.41</td>\n",
       "      <td>0</td>\n",
       "      <td>0.00</td>\n",
       "      <td>0.00</td>\n",
       "      <td>55</td>\n",
       "      <td>0.42</td>\n",
       "    </tr>\n",
       "    <tr>\n",
       "      <th>4</th>\n",
       "      <td>2012</td>\n",
       "      <td>야간사고</td>\n",
       "      <td>1101</td>\n",
       "      <td>677</td>\n",
       "      <td>0.63</td>\n",
       "      <td>6</td>\n",
       "      <td>0.21</td>\n",
       "      <td>0.89</td>\n",
       "      <td>1015</td>\n",
       "      <td>0.61</td>\n",
       "    </tr>\n",
       "    <tr>\n",
       "      <th>...</th>\n",
       "      <td>...</td>\n",
       "      <td>...</td>\n",
       "      <td>...</td>\n",
       "      <td>...</td>\n",
       "      <td>...</td>\n",
       "      <td>...</td>\n",
       "      <td>...</td>\n",
       "      <td>...</td>\n",
       "      <td>...</td>\n",
       "      <td>...</td>\n",
       "    </tr>\n",
       "    <tr>\n",
       "      <th>9142</th>\n",
       "      <td>2019</td>\n",
       "      <td>어린이사고</td>\n",
       "      <td>2701</td>\n",
       "      <td>64</td>\n",
       "      <td>0.58</td>\n",
       "      <td>0</td>\n",
       "      <td>0.00</td>\n",
       "      <td>0.00</td>\n",
       "      <td>75</td>\n",
       "      <td>0.53</td>\n",
       "    </tr>\n",
       "    <tr>\n",
       "      <th>9143</th>\n",
       "      <td>2019</td>\n",
       "      <td>노인사고</td>\n",
       "      <td>2701</td>\n",
       "      <td>134</td>\n",
       "      <td>0.33</td>\n",
       "      <td>8</td>\n",
       "      <td>0.53</td>\n",
       "      <td>5.97</td>\n",
       "      <td>153</td>\n",
       "      <td>0.34</td>\n",
       "    </tr>\n",
       "    <tr>\n",
       "      <th>9144</th>\n",
       "      <td>2019</td>\n",
       "      <td>보행자사고</td>\n",
       "      <td>2701</td>\n",
       "      <td>144</td>\n",
       "      <td>0.31</td>\n",
       "      <td>3</td>\n",
       "      <td>0.23</td>\n",
       "      <td>2.08</td>\n",
       "      <td>147</td>\n",
       "      <td>0.31</td>\n",
       "    </tr>\n",
       "    <tr>\n",
       "      <th>9145</th>\n",
       "      <td>2019</td>\n",
       "      <td>자전거사고</td>\n",
       "      <td>2701</td>\n",
       "      <td>82</td>\n",
       "      <td>0.62</td>\n",
       "      <td>1</td>\n",
       "      <td>0.56</td>\n",
       "      <td>1.22</td>\n",
       "      <td>86</td>\n",
       "      <td>0.63</td>\n",
       "    </tr>\n",
       "    <tr>\n",
       "      <th>9146</th>\n",
       "      <td>2019</td>\n",
       "      <td>야간사고</td>\n",
       "      <td>2701</td>\n",
       "      <td>366</td>\n",
       "      <td>0.40</td>\n",
       "      <td>5</td>\n",
       "      <td>0.31</td>\n",
       "      <td>1.37</td>\n",
       "      <td>516</td>\n",
       "      <td>0.38</td>\n",
       "    </tr>\n",
       "  </tbody>\n",
       "</table>\n",
       "<p>9147 rows × 10 columns</p>\n",
       "</div>"
      ],
      "text/plain": [
       "        연도 대상사고 구분명  법정동코드  사고건수  사고건수 구성비  사망자수  사망자수 구성비   치사율  부상자수  \\\n",
       "0     2012    어린이사고   1101    37      0.30     0      0.00  0.00    60   \n",
       "1     2012     노인사고   1101   144      0.51     4      0.21  2.78   149   \n",
       "2     2012    보행자사고   1101   405      0.79     9      0.44  2.22   412   \n",
       "3     2012    자전거사고   1101    53      0.41     0      0.00  0.00    55   \n",
       "4     2012     야간사고   1101   677      0.63     6      0.21  0.89  1015   \n",
       "...    ...      ...    ...   ...       ...   ...       ...   ...   ...   \n",
       "9142  2019    어린이사고   2701    64      0.58     0      0.00  0.00    75   \n",
       "9143  2019     노인사고   2701   134      0.33     8      0.53  5.97   153   \n",
       "9144  2019    보행자사고   2701   144      0.31     3      0.23  2.08   147   \n",
       "9145  2019    자전거사고   2701    82      0.62     1      0.56  1.22    86   \n",
       "9146  2019     야간사고   2701   366      0.40     5      0.31  1.37   516   \n",
       "\n",
       "      부상자수 구성비  \n",
       "0         0.39  \n",
       "1         0.50  \n",
       "2         0.80  \n",
       "3         0.42  \n",
       "4         0.61  \n",
       "...        ...  \n",
       "9142      0.53  \n",
       "9143      0.34  \n",
       "9144      0.31  \n",
       "9145      0.63  \n",
       "9146      0.38  \n",
       "\n",
       "[9147 rows x 10 columns]"
      ]
     },
     "execution_count": 5,
     "metadata": {},
     "output_type": "execute_result"
    }
   ],
   "source": []
  },
  {
   "cell_type": "code",
   "execution_count": 3,
   "metadata": {},
   "outputs": [
    {
     "name": "stdout",
     "output_type": "stream",
     "text": [
      "'12_19_stt .csv'   Dockerfile   README.md   rest_api.ipynb\r\n"
     ]
    }
   ],
   "source": []
  },
  {
   "cell_type": "code",
   "execution_count": null,
   "metadata": {},
   "outputs": [],
   "source": []
  }
 ],
 "metadata": {
  "kernelspec": {
   "display_name": "Python 3",
   "language": "python",
   "name": "python3"
  },
  "language_info": {
   "codemirror_mode": {
    "name": "ipython",
    "version": 3
   },
   "file_extension": ".py",
   "mimetype": "text/x-python",
   "name": "python",
   "nbconvert_exporter": "python",
   "pygments_lexer": "ipython3",
   "version": "3.6.9"
  }
 },
 "nbformat": 4,
 "nbformat_minor": 2
}
